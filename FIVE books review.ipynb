{
 "cells": [
  {
   "cell_type": "code",
   "execution_count": 97,
   "metadata": {},
   "outputs": [],
   "source": [
    "from bs4 import BeautifulSoup\n",
    "import requests"
   ]
  },
  {
   "cell_type": "code",
   "execution_count": 98,
   "metadata": {},
   "outputs": [
    {
     "data": {
      "text/plain": [
       "<Response [200]>"
      ]
     },
     "execution_count": 98,
     "metadata": {},
     "output_type": "execute_result"
    }
   ],
   "source": [
    "main=requests.get(\"https://bookpage.com/reviews?book_genre=romance&page=1\")\n",
    "main"
   ]
  },
  {
   "cell_type": "code",
   "execution_count": 99,
   "metadata": {},
   "outputs": [
    {
     "data": {
      "text/plain": [
       "<Response [200]>"
      ]
     },
     "execution_count": 99,
     "metadata": {},
     "output_type": "execute_result"
    }
   ],
   "source": [
    "book1=requests.get(\"https://bookpage.com/reviews/26330-emily-houghton-before-i-saw-you-romance#.YJTFeLUzZ3g\")\n",
    "book1"
   ]
  },
  {
   "cell_type": "code",
   "execution_count": 100,
   "metadata": {},
   "outputs": [
    {
     "data": {
      "text/plain": [
       "<Response [200]>"
      ]
     },
     "execution_count": 100,
     "metadata": {},
     "output_type": "execute_result"
    }
   ],
   "source": [
    "book2=requests.get(\"https://bookpage.com/reviews/26251-vanessa-riley-earl-girl-toddler-romance#.YJSjd7UzZ3g\")\n",
    "book2"
   ]
  },
  {
   "cell_type": "code",
   "execution_count": 101,
   "metadata": {},
   "outputs": [
    {
     "data": {
      "text/plain": [
       "<Response [200]>"
      ]
     },
     "execution_count": 101,
     "metadata": {},
     "output_type": "execute_result"
    }
   ],
   "source": [
    "book3=requests.get(\"https://bookpage.com/reviews/26224-martha-waters-to-love-to-loathe-romance#.YJSjfbUzZ3g\")\n",
    "book3"
   ]
  },
  {
   "cell_type": "code",
   "execution_count": 102,
   "metadata": {},
   "outputs": [
    {
     "data": {
      "text/plain": [
       "<Response [200]>"
      ]
     },
     "execution_count": 102,
     "metadata": {},
     "output_type": "execute_result"
    }
   ],
   "source": [
    "book4=requests.get(\"https://bookpage.com/reviews/26221-rosie-danan-intimacy-experiement-romance#.YJSjgLUzZ3g\")\n",
    "book4"
   ]
  },
  {
   "cell_type": "code",
   "execution_count": 103,
   "metadata": {},
   "outputs": [
    {
     "data": {
      "text/plain": [
       "<Response [200]>"
      ]
     },
     "execution_count": 103,
     "metadata": {},
     "output_type": "execute_result"
    }
   ],
   "source": [
    "book5=requests.get(\"https://bookpage.com/reviews/26147-uzma-jalaluddin-hana-khan-carries-romance#.YJSjgbUzZ3g\")\n",
    "book5"
   ]
  },
  {
   "cell_type": "code",
   "execution_count": null,
   "metadata": {},
   "outputs": [],
   "source": []
  },
  {
   "cell_type": "code",
   "execution_count": 104,
   "metadata": {},
   "outputs": [],
   "source": [
    "soup=BeautifulSoup(main.content)\n",
    "soup1=BeautifulSoup(book1.content)\n",
    "soup2=BeautifulSoup(book2.content)\n",
    "soup3=BeautifulSoup(book3.content)\n",
    "soup4=BeautifulSoup(book4.content)\n",
    "soup5=BeautifulSoup(book5.content)\n"
   ]
  },
  {
   "cell_type": "code",
   "execution_count": 105,
   "metadata": {},
   "outputs": [],
   "source": [
    "name_=soup.find_all('h4',class_='italic')"
   ]
  },
  {
   "cell_type": "code",
   "execution_count": 106,
   "metadata": {},
   "outputs": [],
   "source": [
    "genre_=soup.find_all('p',class_='genre-links hidden-phone')\n"
   ]
  },
  {
   "cell_type": "code",
   "execution_count": 107,
   "metadata": {},
   "outputs": [],
   "source": [
    "aut_name_=soup.find_all('p',class_='sans bold')\n"
   ]
  },
  {
   "cell_type": "code",
   "execution_count": 108,
   "metadata": {},
   "outputs": [
    {
     "data": {
      "text/plain": [
       "[' Before I Saw You ',\n",
       " ' An Earl, the Girl, and a Toddler ',\n",
       " ' To Love and to Loathe ',\n",
       " ' The Intimacy Experiment ',\n",
       " ' Hana Khan Carries On ']"
      ]
     },
     "execution_count": 108,
     "metadata": {},
     "output_type": "execute_result"
    }
   ],
   "source": [
    "n=[]\n",
    "k=0\n",
    "for i in name_:\n",
    "    \n",
    "    k=k+1\n",
    "    if k>=6:\n",
    "        break\n",
    "\n",
    "    n.append(i.text.replace('\\n',' '))\n",
    "n\n",
    "name=[]\n",
    "\n",
    "# we dan comment below code if we want star before name, as few titles had star symbol before them\n",
    "for i in n:\n",
    "    name.append(i.replace(' ★ ',''))\n",
    "name\n",
    "    "
   ]
  },
  {
   "cell_type": "code",
   "execution_count": null,
   "metadata": {},
   "outputs": [],
   "source": []
  },
  {
   "cell_type": "code",
   "execution_count": 109,
   "metadata": {},
   "outputs": [
    {
     "data": {
      "text/plain": [
       "['Romance/ContemporaryRomance',\n",
       " 'Romance/HistoricalRomance',\n",
       " 'Romance/HistoricalRomance',\n",
       " 'Romance/ContemporaryRomance',\n",
       " 'Romance/ContemporaryRomance']"
      ]
     },
     "execution_count": 109,
     "metadata": {},
     "output_type": "execute_result"
    }
   ],
   "source": [
    "n=[]\n",
    "k=0\n",
    "for i in genre_:\n",
    "    \n",
    "    k=k+1\n",
    "    if k>=6:\n",
    "        break\n",
    "\n",
    "    n.append(i.text.replace('\\n',' '))\n",
    "n\n",
    "genre=[]\n",
    "\n",
    "\n",
    "for i in n:\n",
    "    genre.append(i.replace(' ',''))\n",
    "genre"
   ]
  },
  {
   "cell_type": "code",
   "execution_count": 110,
   "metadata": {},
   "outputs": [
    {
     "data": {
      "text/plain": [
       "[' Emily Houghton ',\n",
       " ' Vanessa Riley ',\n",
       " ' Martha Waters ',\n",
       " ' Rosie Danan ',\n",
       " ' Uzma Jalaluddin ']"
      ]
     },
     "execution_count": 110,
     "metadata": {},
     "output_type": "execute_result"
    }
   ],
   "source": [
    "aut_name=[]\n",
    "k=0\n",
    "for i in aut_name_:\n",
    "    \n",
    "    k=k+1\n",
    "    if k>=6:\n",
    "        break\n",
    "\n",
    "    aut_name.append(i.text.replace('\\n',' '))\n",
    "aut_name\n"
   ]
  },
  {
   "cell_type": "code",
   "execution_count": null,
   "metadata": {},
   "outputs": [],
   "source": []
  },
  {
   "cell_type": "code",
   "execution_count": 111,
   "metadata": {},
   "outputs": [
    {
     "data": {
      "text/plain": [
       "<div class=\"article-body\">\n",
       "<p>\n",
       "</p><p>Emily Houghton’s <strong>Before I Saw You</strong> is a tender, emotional debut about pain, recovery and the support people find in unexpected places. This tear-jerking slow-burn romance follows two patients in a long-term care ward as they recover from serious injuries.</p>\n",
       "<p>Alice and Alfie share a room at St. Francis’ Hospital. Alice is an overworked introvert healing from significant burns after a fire in her building. Alfie is an incurable extrovert who survived a deadly car accident but needed to have his leg amputated. They’re very much opposites. Alfie is quite the chatterbox, determined to bring a smile to everyone’s face, and Alice barely speaks and keeps the curtains closed around her bed. After relying solely on herself from a too early age, the thought of depending on someone else for anything causes Alice to shrink further into herself.</p>\n",
       "<p>At first, their relationship is built on Alfie talking and Alice just listening. While his incessant chattering annoys Alice at the beginning, she quickly grows accustomed to hearing his voice and eventually finds it a source of comfort. Alfie and Alice both suffered other traumas before their respective injuries, and a long-term hospital stay could be the catalyst for finally addressing those events. After all, there is little else to do when you’re mostly confined to a hospital room.</p>\n",
       "<p>An action-oriented romance this is not. But it's a perfect read for someone who prefers getting to know the main characters and watching their relationship grow via those tiny, seemingly inconsequential moments. Alice and Alfie’s journey from strangers to friends to more is torturous in the best way possible. Their relationship unfolds slowly, teasingly. The first time they touch hands is momentous and feels incredibly raw because of how much tension and anticipation Houghton has built up to that point.</p>\n",
       "<p>There are dark moments as Alfie and Alice come to terms with their own baggage, and as the reader discovers more about the circumstances that led them to the hospital. <strong>Before I Saw You</strong> should come packaged with tissues because crying is inevitable. However, Houghton sneaks in bits of levity from the larger cast of characters, from Alfie’s doting parents to the empathetic staff. It’s a great, balanced approach that also extends to the affable Alfie. Though his kindness and charming personality are genuine, he wields them as a shield to distract himself from thinking too deeply about how his life will change once he leaves St. Francis.</p>\n",
       "<p>Don't be turned off by the promise of an ugly sob or two. Houghton makes the tough times worth it, such as when Alice speaks her first words to Alfie or when she finally shifts aside her curtain and reaches out her hand. One of the beauties of romance is how it shows the bright spots amid tough times, and <strong>Before I Saw You</strong> is a testament to why readers find this genre to be hopeful above all else.</p>\n",
       "</div>"
      ]
     },
     "execution_count": 111,
     "metadata": {},
     "output_type": "execute_result"
    }
   ],
   "source": [
    "book1_=soup1.find('div',class_='article-body')\n",
    "book1_"
   ]
  },
  {
   "cell_type": "code",
   "execution_count": 115,
   "metadata": {},
   "outputs": [
    {
     "data": {
      "text/plain": [
       "\"  Emily Houghton’s Before I Saw You is a tender, emotional debut about pain, recovery and the support people find in unexpected places. This tear-jerking slow-burn romance follows two patients in a long-term care ward as they recover from serious injuries. Alice and Alfie share a room at St. Francis’ Hospital. Alice is an overworked introvert healing from significant burns after a fire in her building. Alfie is an incurable extrovert who survived a deadly car accident but needed to have his leg amputated. They’re very much opposites. Alfie is quite the chatterbox, determined to bring a smile to everyone’s face, and Alice barely speaks and keeps the curtains closed around her bed. After relying solely on herself from a too early age, the thought of depending on someone else for anything causes Alice to shrink further into herself. At first, their relationship is built on Alfie talking and Alice just listening. While his incessant chattering annoys Alice at the beginning, she quickly grows accustomed to hearing his voice and eventually finds it a source of comfort. Alfie and Alice both suffered other traumas before their respective injuries, and a long-term hospital stay could be the catalyst for finally addressing those events. After all, there is little else to do when you’re mostly confined to a hospital room. An action-oriented romance this is not. But it's a perfect read for someone who prefers getting to know the main characters and watching their relationship grow via those tiny, seemingly inconsequential moments. Alice and Alfie’s journey from strangers to friends to more is torturous in the best way possible. Their relationship unfolds slowly, teasingly. The first time they touch hands is momentous and feels incredibly raw because of how much tension and anticipation Houghton has built up to that point. There are dark moments as Alfie and Alice come to terms with their own baggage, and as the reader discovers more about the circumstances that led them to the hospital. Before I Saw You should come packaged with tissues because crying is inevitable. However, Houghton sneaks in bits of levity from the larger cast of characters, from Alfie’s doting parents to the empathetic staff. It’s a great, balanced approach that also extends to the affable Alfie. Though his kindness and charming personality are genuine, he wields them as a shield to distract himself from thinking too deeply about how his life will change once he leaves St. Francis. Don't be turned off by the promise of an ugly sob or two. Houghton makes the tough times worth it, such as when Alice speaks her first words to Alfie or when she finally shifts aside her curtain and reaches out her hand. One of the beauties of romance is how it shows the bright spots amid tough times, and Before I Saw You is a testament to why readers find this genre to be hopeful above all else. \""
      ]
     },
     "execution_count": 115,
     "metadata": {},
     "output_type": "execute_result"
    }
   ],
   "source": [
    "book1=book1_.text.replace('\\n',' ')\n",
    "book1=book1.replace('\\xa0',' ')\n",
    "book1"
   ]
  },
  {
   "cell_type": "code",
   "execution_count": 116,
   "metadata": {},
   "outputs": [
    {
     "data": {
      "text/plain": [
       "\"  The story starts with a tragedy. A ship sailing from Jamaica sinks just before it reaches England’s shore, leaving only two survivors. The first is a badly injured woman. The other is a baby girl, who is quickly deposited into the arms of Daniel Thackery, Earl of Ashbrook. He had come to the port to meet Phoebe Dunn, his bride-to-be. A baby wasn’t in his plans—but as the baby is a blackamoor (the Regency-era term for people with dark skin) like him, the sailors assume the child must be his. If he doesn’t claim the girl, who he can only assume was Phoebe’s daughter, she’ll be sent to an orphanage, or worse. Daniel is not one to leave an innocent without protection, so he adopts the baby and names her Hope. Meanwhile, the other survivor, identified as Jemima St. Maur, can’t remember anything about her life before the shipwreck. Her only certainty, which comes from a place deeper than memory, is that her baby was taken from her. She’s filled with fear and despair, which only worsen when she’s committed to Bedlam—but, of course, she’s not in Bedlam for long. When Vanessa Riley’s An Earl, the Girl, and a Toddler picks back up two years later, Jemima has become the toast of society. She has her pick of suitors, even if the only one who catches her eye is the barrister who secured her release and restored her to the ton—none other than Daniel himself. It sounds like a setup straight out of a Hollywood movie, as Daniel rescues Hope, then Jemima, with the tantalizing possibility that the three of them are meant to be a family. While there’s a lot of humor and playfulness (Jemima’s letters to Daniel are highly entertaining), Riley doesn’t pull her emotional punches. An Earl opens on a powerful note, with Daniel waiting in line at the dock, seeing each person ahead of him grapple with the sight of the name of a loved one on the casualty list. When the narrative shifts to Jemima, alone and afraid in the hospital, the stakes only grow more intense.  ALSO IN BOOKPAGE: Vanessa Riley explores the many layers of a Black aristocrat's experience in the Regency.  As the romance between Jemima and Daniel progresses, the heaviest weight comes from their vulnerabilities. Though Daniel is wealthy, educated, clever, kind and truly gentlemanly, he lives with the constant knowledge that as a Black man, any toe out of line could result in all his status and privilege being stripped away. Riley dispels the myth of the all-white Regency—people of color rose to the titled elite in this and in many other historical periods—while also refusing to diminish or gloss over an iota of the bigotry and judgment a blackamoor earl would face. Jemima’s horrible experiences in Bedlam hang over her, shadowing not just how others perceive her but how she perceives herself and the security of her position. She was committed by an associate of her family, less because of her amnesia and more because it was convenient for her to be out of the way. With a clear and all-too-personal understanding of how easy it is for a woman to be committed to an asylum, she carries a fearful certainty that what happened before could happen again. It’s no wonder that trust is a major theme of this romance. It’s not an easy thing for Daniel or Jemima to offer, not with so many people lined up to judge them. Their hesitance to trust each other can get a bit frustrating at times, but Riley makes it clear that they have good reason for their reservations. Love wins out over fear in the sweet ending—and the truth of what happened the day the ship sank, even when it’s not quite what anyone expected, sets them both free. \""
      ]
     },
     "execution_count": 116,
     "metadata": {},
     "output_type": "execute_result"
    }
   ],
   "source": [
    "book2_=soup2.find('div',class_='article-body')\n",
    "book2=book2_.text.replace('\\n',' ')\n",
    "book2=book2.replace('\\xa0',' ')\n",
    "book2"
   ]
  },
  {
   "cell_type": "code",
   "execution_count": null,
   "metadata": {},
   "outputs": [],
   "source": []
  },
  {
   "cell_type": "code",
   "execution_count": 117,
   "metadata": {
    "scrolled": true
   },
   "outputs": [
    {
     "data": {
      "text/plain": [
       "'  Martha Waters is back with the second book in her Regency Vows series, To Love and To Loathe. This absolutely perfect Regency romance is chock-full of chatty, flirty characters and delectable scoundrels. It’s charming, happy and perhaps best of all, it’s got a scandalous wager between enemies. The tension between the widowed Diana, Lady Templeton and Jeremy, Marquess of Willingham, is through the roof. Their flirting is legendary—everyone can see it—and in an era ruled by gossip, it seems obvious the two will wind up together. Except, of course, to Diana and Jeremy, because these frenemies love to bicker. Over one particularly dicey row, Diana makes Jeremy a wager that comes back to haunt her. She bets Jeremy that he’ll marry within a year, or she’ll give him 100 pounds. But Jeremy, who’s reeling after his last mistress criticized his skills in the bedroom, proposes something even more shocking. He suggests they have an affair for a fortnight, because he knows the sharp-tongued, honest to a fault Diana won’t shy away from telling him the truth. What follows is a saucy and scandalous romance that’s addictive fun while capably portraying both characters’ internal conflict. Waters sets a jaunty pace with flirty dialogue, easy camaraderie and enjoyable characters. All the typical trademarks of Regency era are present, but thanks to Waters’ charm, this story feels timeless and young and fun. '"
      ]
     },
     "execution_count": 117,
     "metadata": {},
     "output_type": "execute_result"
    }
   ],
   "source": [
    "book3_=soup3.find('div',class_='article-body')\n",
    "book3=book3_.text.replace('\\n',' ')\n",
    "book3=book3.replace('\\xa0',' ')\n",
    "book3"
   ]
  },
  {
   "cell_type": "code",
   "execution_count": null,
   "metadata": {},
   "outputs": [],
   "source": []
  },
  {
   "cell_type": "code",
   "execution_count": 118,
   "metadata": {},
   "outputs": [
    {
     "data": {
      "text/plain": [
       "\"  Rosie Danan returns with The Intimacy Experiment, a steamy contemporary romance that is every bit as enjoyable as her debut, The Roommate. It’s a triumph of feminist fiction, supporting the importance of healthy emotional and physical intimacy and showing how to make the world a better place with love. Startup executive Naomi Grant thinks of herself as something of a superhero. She’s a former porn star who left behind her previous name and identity to build an enormous platform and take-no-prisoners public image, which she has used to transition into a career as a sex educator. But given the cultural stigma surrounding sex work, she isn’t welcome in the lecture circuit or in higher education. She’s the perfect foil to Rabbi Ethan Cohen, one of the city’s hottest bachelors, who’s been tasked with attracting a younger generation to the faith. His own background is somewhat nontraditional, in that he was a career academic before devoting his life to his faith. Faced with budget woes and low participation, Ethan decides to pursue a controversial initiative with Naomi by asking her to co-host a seminar series on modern intimacy. Rather than judging her former career as a sex worker, he focuses on her intelligence and the successful company and message she’s created. Not only does he acknowledge the brain behind Naomi's beauty, he also understands that the things she’s talking about are important to the millennial generation his congregation needs to survive. The Intimacy Experiment is sexy and modern and fun, but also thoughtful and authentic. Danan avoids tired stereotypes: Ethan isn’t the least bit squeamish about sex, and Naomi is vulnerable and open when considering their budding romance. There’s a lot at stake for both of these flawed, richly layered characters. For them to love each other, openly and without reserve, is a risk to their professional reputations. And even without all of that, it takes a brave person to tell another, “I think I could be good at loving you,” and mean it. It takes a brave person to believe they’re worthy of that love. Danan crafts a beautiful arc as Naomi learns to stand in the real world and let her true self shine through, reconciling both her “superhero” and “secret” identities, and trusting that Ethan will love all of who she is. \""
      ]
     },
     "execution_count": 118,
     "metadata": {},
     "output_type": "execute_result"
    }
   ],
   "source": [
    "book4_=soup4.find('div',class_='article-body')\n",
    "book4=book4_.text.replace('\\n',' ')\n",
    "book4=book4.replace('\\xa0',' ')\n",
    "book4"
   ]
  },
  {
   "cell_type": "code",
   "execution_count": null,
   "metadata": {},
   "outputs": [],
   "source": []
  },
  {
   "cell_type": "code",
   "execution_count": 119,
   "metadata": {},
   "outputs": [
    {
     "data": {
      "text/plain": [
       "'  In Uzma Jalaluddin’s sophomore novel, Hana Khan Carries On, a Muslim woman tries to keep her family’s halal business afloat while finding comfort in creating her own anonymous podcast. Hana Khan has plenty to worry about: her mother’s casual halal restaurant is in dire financial straits, and the Khan household has been turned upside down by the arrival of her aunt and cousin. Her only outlet is Ana’s Brown Girl Rambles, a podcast that Hana launched anonymously and views as a diary of sorts. As it slowly gains a following, Hana starts an adorable online back and forth with a dedicated listener. What she doesn’t know is that very same listener is Aydin Shah, who runs the competing halal eatery that is jeopardizing the Khan family business. Jalaluddin’s debut novel, Ayesha at Last, was a Pride & Prejudice-inspired journey to romance and self-fulfillment. With Hana Khan, Jalaluddin turns to rom-com classic You’ve Got Mail for inspiration. The bones of the Meg Ryan and Tom Hanks film are there, trading bookstores for halal food, but Jalaluddin launches this story into the 21st century. The most obvious update is Hana’s interest in podcasting and auditory forms of storytelling, but there’s also the setting of Toronto’s Golden Crescent neighborhood, which is home to a thriving Muslim community. Jalaluddin demonstrates how this close-knit world provides both support system and motivation for Hana and her family throughout the novel. But she also acknowledges the depressing truth that it makes them targets, especially when Hana experiences an anti-Muslim hate crime that goes viral.  ALSO IN BOOKPAGE: How Uzma Jalaluddin uses romance tropes to expand the boundaries of the genre.  It’s a tall order to find someone worthy of such a brilliant and earnest heroine, but Aydin is an excellent love interest. He’s genuine and charming, a perfect foil for his father’s more hostile business tactics, but the novel is more focused on Hana’s journey than his own. There is a satisfying happily ever after at the end, but Jalaluddin explores more than just romantic love in Hana Khan. It’s a story of self-love, familial love, togetherness and compassion between neighbors, and all the different ways we express love with who we allow into our lives. This modern romantic comedy is full of warmth, and complemented wonderfully by Hana’s courageous self-determination and the scene-stealing secondary members of the Khan family. If Hana Khan Carries On is a sign of things to come, whatever Jalaluddin writes next will be inventive, extraordinary and well worth a read. '"
      ]
     },
     "execution_count": 119,
     "metadata": {},
     "output_type": "execute_result"
    }
   ],
   "source": [
    "book5_=soup5.find('div',class_='article-body')\n",
    "book5=book5_.text.replace('\\n',' ')\n",
    "book5=book5.replace('\\xa0',' ')\n",
    "book5"
   ]
  },
  {
   "cell_type": "code",
   "execution_count": 120,
   "metadata": {},
   "outputs": [],
   "source": [
    "reviews=[book1,book2,book3,book4,book5]"
   ]
  },
  {
   "cell_type": "code",
   "execution_count": 121,
   "metadata": {},
   "outputs": [],
   "source": [
    "import pandas as pd\n",
    "BOOK=pd.DataFrame({})\n",
    "BOOK['Name']=name\n",
    "BOOK['Author Name']=aut_name\n",
    "BOOK['Genre']=genre\n",
    "BOOK['Reviews']=reviews\n"
   ]
  },
  {
   "cell_type": "code",
   "execution_count": 122,
   "metadata": {},
   "outputs": [
    {
     "data": {
      "text/html": [
       "<div>\n",
       "<style scoped>\n",
       "    .dataframe tbody tr th:only-of-type {\n",
       "        vertical-align: middle;\n",
       "    }\n",
       "\n",
       "    .dataframe tbody tr th {\n",
       "        vertical-align: top;\n",
       "    }\n",
       "\n",
       "    .dataframe thead th {\n",
       "        text-align: right;\n",
       "    }\n",
       "</style>\n",
       "<table border=\"1\" class=\"dataframe\">\n",
       "  <thead>\n",
       "    <tr style=\"text-align: right;\">\n",
       "      <th></th>\n",
       "      <th>Name</th>\n",
       "      <th>Author Name</th>\n",
       "      <th>Genre</th>\n",
       "      <th>Reviews</th>\n",
       "    </tr>\n",
       "  </thead>\n",
       "  <tbody>\n",
       "    <tr>\n",
       "      <th>0</th>\n",
       "      <td>Before I Saw You</td>\n",
       "      <td>Emily Houghton</td>\n",
       "      <td>Romance/ContemporaryRomance</td>\n",
       "      <td>Emily Houghton’s Before I Saw You is a tende...</td>\n",
       "    </tr>\n",
       "    <tr>\n",
       "      <th>1</th>\n",
       "      <td>An Earl, the Girl, and a Toddler</td>\n",
       "      <td>Vanessa Riley</td>\n",
       "      <td>Romance/HistoricalRomance</td>\n",
       "      <td>The story starts with a tragedy. A ship sail...</td>\n",
       "    </tr>\n",
       "    <tr>\n",
       "      <th>2</th>\n",
       "      <td>To Love and to Loathe</td>\n",
       "      <td>Martha Waters</td>\n",
       "      <td>Romance/HistoricalRomance</td>\n",
       "      <td>Martha Waters is back with the second book i...</td>\n",
       "    </tr>\n",
       "    <tr>\n",
       "      <th>3</th>\n",
       "      <td>The Intimacy Experiment</td>\n",
       "      <td>Rosie Danan</td>\n",
       "      <td>Romance/ContemporaryRomance</td>\n",
       "      <td>Rosie Danan returns with The Intimacy Experi...</td>\n",
       "    </tr>\n",
       "    <tr>\n",
       "      <th>4</th>\n",
       "      <td>Hana Khan Carries On</td>\n",
       "      <td>Uzma Jalaluddin</td>\n",
       "      <td>Romance/ContemporaryRomance</td>\n",
       "      <td>In Uzma Jalaluddin’s sophomore novel, Hana K...</td>\n",
       "    </tr>\n",
       "  </tbody>\n",
       "</table>\n",
       "</div>"
      ],
      "text/plain": [
       "                                 Name        Author Name  \\\n",
       "0                   Before I Saw You     Emily Houghton    \n",
       "1   An Earl, the Girl, and a Toddler      Vanessa Riley    \n",
       "2              To Love and to Loathe      Martha Waters    \n",
       "3            The Intimacy Experiment        Rosie Danan    \n",
       "4               Hana Khan Carries On    Uzma Jalaluddin    \n",
       "\n",
       "                         Genre  \\\n",
       "0  Romance/ContemporaryRomance   \n",
       "1    Romance/HistoricalRomance   \n",
       "2    Romance/HistoricalRomance   \n",
       "3  Romance/ContemporaryRomance   \n",
       "4  Romance/ContemporaryRomance   \n",
       "\n",
       "                                             Reviews  \n",
       "0    Emily Houghton’s Before I Saw You is a tende...  \n",
       "1    The story starts with a tragedy. A ship sail...  \n",
       "2    Martha Waters is back with the second book i...  \n",
       "3    Rosie Danan returns with The Intimacy Experi...  \n",
       "4    In Uzma Jalaluddin’s sophomore novel, Hana K...  "
      ]
     },
     "execution_count": 122,
     "metadata": {},
     "output_type": "execute_result"
    }
   ],
   "source": [
    "BOOK.head()"
   ]
  },
  {
   "cell_type": "code",
   "execution_count": 123,
   "metadata": {},
   "outputs": [],
   "source": [
    "BOOK.to_csv('FIVE BOOKS.csv')"
   ]
  }
 ],
 "metadata": {
  "kernelspec": {
   "display_name": "Python 3",
   "language": "python",
   "name": "python3"
  },
  "language_info": {
   "codemirror_mode": {
    "name": "ipython",
    "version": 3
   },
   "file_extension": ".py",
   "mimetype": "text/x-python",
   "name": "python",
   "nbconvert_exporter": "python",
   "pygments_lexer": "ipython3",
   "version": "3.8.5"
  }
 },
 "nbformat": 4,
 "nbformat_minor": 4
}
